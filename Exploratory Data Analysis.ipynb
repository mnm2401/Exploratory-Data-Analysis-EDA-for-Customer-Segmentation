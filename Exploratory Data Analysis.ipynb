{
 "cells": [
  {
   "cell_type": "code",
   "execution_count": 4,
   "metadata": {},
   "outputs": [],
   "source": [
    "import pandas as pd\n",
    "import seaborn as sns\n",
    "import matplotlib.pyplot as plt\n",
    "import plotly.express as px\n"
   ]
  },
  {
   "cell_type": "code",
   "execution_count": 5,
   "metadata": {},
   "outputs": [
    {
     "data": {
      "text/html": [
       "<div>\n",
       "<style scoped>\n",
       "    .dataframe tbody tr th:only-of-type {\n",
       "        vertical-align: middle;\n",
       "    }\n",
       "\n",
       "    .dataframe tbody tr th {\n",
       "        vertical-align: top;\n",
       "    }\n",
       "\n",
       "    .dataframe thead th {\n",
       "        text-align: right;\n",
       "    }\n",
       "</style>\n",
       "<table border=\"1\" class=\"dataframe\">\n",
       "  <thead>\n",
       "    <tr style=\"text-align: right;\">\n",
       "      <th></th>\n",
       "      <th>customer_id</th>\n",
       "      <th>age</th>\n",
       "      <th>gender</th>\n",
       "      <th>marital_status</th>\n",
       "      <th>annual_income</th>\n",
       "      <th>total_purchases</th>\n",
       "      <th>preferred_category</th>\n",
       "    </tr>\n",
       "  </thead>\n",
       "  <tbody>\n",
       "    <tr>\n",
       "      <th>0</th>\n",
       "      <td>4233</td>\n",
       "      <td>60</td>\n",
       "      <td>Female</td>\n",
       "      <td>Single</td>\n",
       "      <td>0.219041</td>\n",
       "      <td>0.875</td>\n",
       "      <td>Home Goods</td>\n",
       "    </tr>\n",
       "    <tr>\n",
       "      <th>1</th>\n",
       "      <td>5451</td>\n",
       "      <td>23</td>\n",
       "      <td>Male</td>\n",
       "      <td>Single</td>\n",
       "      <td>0.078355</td>\n",
       "      <td>0.075</td>\n",
       "      <td>Home Goods</td>\n",
       "    </tr>\n",
       "    <tr>\n",
       "      <th>2</th>\n",
       "      <td>5813</td>\n",
       "      <td>40</td>\n",
       "      <td>Female</td>\n",
       "      <td>Married</td>\n",
       "      <td>0.695944</td>\n",
       "      <td>0.625</td>\n",
       "      <td>Electronics</td>\n",
       "    </tr>\n",
       "    <tr>\n",
       "      <th>3</th>\n",
       "      <td>3141</td>\n",
       "      <td>57</td>\n",
       "      <td>Female</td>\n",
       "      <td>Married</td>\n",
       "      <td>0.400385</td>\n",
       "      <td>0.425</td>\n",
       "      <td>Home Goods</td>\n",
       "    </tr>\n",
       "    <tr>\n",
       "      <th>4</th>\n",
       "      <td>3121</td>\n",
       "      <td>23</td>\n",
       "      <td>Female</td>\n",
       "      <td>Single</td>\n",
       "      <td>0.117199</td>\n",
       "      <td>0.375</td>\n",
       "      <td>Appliances</td>\n",
       "    </tr>\n",
       "    <tr>\n",
       "      <th>...</th>\n",
       "      <td>...</td>\n",
       "      <td>...</td>\n",
       "      <td>...</td>\n",
       "      <td>...</td>\n",
       "      <td>...</td>\n",
       "      <td>...</td>\n",
       "      <td>...</td>\n",
       "    </tr>\n",
       "    <tr>\n",
       "      <th>495</th>\n",
       "      <td>4813</td>\n",
       "      <td>60</td>\n",
       "      <td>Female</td>\n",
       "      <td>Divorced</td>\n",
       "      <td>0.961713</td>\n",
       "      <td>0.150</td>\n",
       "      <td>Home Goods</td>\n",
       "    </tr>\n",
       "    <tr>\n",
       "      <th>496</th>\n",
       "      <td>3620</td>\n",
       "      <td>36</td>\n",
       "      <td>Male</td>\n",
       "      <td>Married</td>\n",
       "      <td>0.337131</td>\n",
       "      <td>0.350</td>\n",
       "      <td>Electronics</td>\n",
       "    </tr>\n",
       "    <tr>\n",
       "      <th>497</th>\n",
       "      <td>2738</td>\n",
       "      <td>55</td>\n",
       "      <td>Female</td>\n",
       "      <td>Divorced</td>\n",
       "      <td>0.245456</td>\n",
       "      <td>0.675</td>\n",
       "      <td>Electronics</td>\n",
       "    </tr>\n",
       "    <tr>\n",
       "      <th>498</th>\n",
       "      <td>2616</td>\n",
       "      <td>29</td>\n",
       "      <td>Male</td>\n",
       "      <td>Married</td>\n",
       "      <td>0.702481</td>\n",
       "      <td>0.025</td>\n",
       "      <td>Home Goods</td>\n",
       "    </tr>\n",
       "    <tr>\n",
       "      <th>499</th>\n",
       "      <td>3795</td>\n",
       "      <td>48</td>\n",
       "      <td>Male</td>\n",
       "      <td>Married</td>\n",
       "      <td>0.277240</td>\n",
       "      <td>0.850</td>\n",
       "      <td>Electronics</td>\n",
       "    </tr>\n",
       "  </tbody>\n",
       "</table>\n",
       "<p>500 rows × 7 columns</p>\n",
       "</div>"
      ],
      "text/plain": [
       "     customer_id  age  gender marital_status  annual_income  total_purchases  \\\n",
       "0           4233   60  Female         Single       0.219041            0.875   \n",
       "1           5451   23    Male         Single       0.078355            0.075   \n",
       "2           5813   40  Female        Married       0.695944            0.625   \n",
       "3           3141   57  Female        Married       0.400385            0.425   \n",
       "4           3121   23  Female         Single       0.117199            0.375   \n",
       "..           ...  ...     ...            ...            ...              ...   \n",
       "495         4813   60  Female       Divorced       0.961713            0.150   \n",
       "496         3620   36    Male        Married       0.337131            0.350   \n",
       "497         2738   55  Female       Divorced       0.245456            0.675   \n",
       "498         2616   29    Male        Married       0.702481            0.025   \n",
       "499         3795   48    Male        Married       0.277240            0.850   \n",
       "\n",
       "    preferred_category  \n",
       "0           Home Goods  \n",
       "1           Home Goods  \n",
       "2          Electronics  \n",
       "3           Home Goods  \n",
       "4           Appliances  \n",
       "..                 ...  \n",
       "495         Home Goods  \n",
       "496        Electronics  \n",
       "497        Electronics  \n",
       "498         Home Goods  \n",
       "499        Electronics  \n",
       "\n",
       "[500 rows x 7 columns]"
      ]
     },
     "execution_count": 5,
     "metadata": {},
     "output_type": "execute_result"
    }
   ],
   "source": [
    "dataset=pd.read_csv(r\"C:\\Users\\Mohammad Noor Malik\\OneDrive\\Dokumen\\python\\internship tasks\\week 5\\scaled dataset.csv\",index_col=0)\n",
    "dataset"
   ]
  },
  {
   "cell_type": "markdown",
   "metadata": {},
   "source": [
    "Count plot of each category\n"
   ]
  },
  {
   "cell_type": "code",
   "execution_count": 6,
   "metadata": {},
   "outputs": [
    {
     "data": {
      "image/png": "[encoded data removed]",
      "text/plain": [
       "<Figure size 576x432 with 1 Axes>"
      ]
     },
     "metadata": {
      "needs_background": "light"
     },
     "output_type": "display_data"
    }
   ],
   "source": [
    "plt.figure(figsize=(8, 6))\n",
    "sns.countplot(x='preferred_category', data=dataset)\n",
    "plt.xlabel('Preferred Category')\n",
    "plt.ylabel('Count')\n",
    "plt.title('Distribution of Preferred Category')\n",
    "plt.show()\n"
   ]
  },
  {
   "cell_type": "markdown",
   "metadata": {},
   "source": [
    "scatter plots between age and annual income\n"
   ]
  },
  {
   "cell_type": "code",
   "execution_count": 7,
   "metadata": {},
   "outputs": [
    {
     "data": {
      "image/png": "[encoded data removed]",
      "text/plain": [
       "<Figure size 576x432 with 1 Axes>"
      ]
     },
     "metadata": {
      "needs_background": "light"
     },
     "output_type": "display_data"
    }
   ],
   "source": [
    "plt.figure(figsize=(8, 6))\n",
    "sns.scatterplot(x='age', y='annual_income', data=dataset, hue='preferred_category')\n",
    "plt.xlabel('Age')\n",
    "plt.ylabel('Annual Income')\n",
    "plt.title('Age vs. Annual Income')\n",
    "plt.show()"
   ]
  },
  {
   "cell_type": "markdown",
   "metadata": {},
   "source": [
    "scatter plots between age and total purchases\n"
   ]
  },
  {
   "cell_type": "code",
   "execution_count": 8,
   "metadata": {},
   "outputs": [
    {
     "data": {
      "image/png": "[encoded data removed]",
      "text/plain": [
       "<Figure size 576x432 with 1 Axes>"
      ]
     },
     "metadata": {
      "needs_background": "light"
     },
     "output_type": "display_data"
    }
   ],
   "source": [
    "plt.figure(figsize=(8, 6))\n",
    "sns.scatterplot(x='age', y='total_purchases', data=dataset, hue='preferred_category')\n",
    "plt.xlabel('Age')\n",
    "plt.ylabel('Total Purchases')\n",
    "plt.title('Age vs. Total Purchases')\n",
    "plt.show()"
   ]
  },
  {
   "cell_type": "markdown",
   "metadata": {},
   "source": [
    "violin plot between marital status and income\n"
   ]
  },
  {
   "cell_type": "code",
   "execution_count": 9,
   "metadata": {},
   "outputs": [
    {
     "data": {
      "image/png": "[encoded data removed]",
      "text/plain": [
       "<Figure size 576x432 with 1 Axes>"
      ]
     },
     "metadata": {
      "needs_background": "light"
     },
     "output_type": "display_data"
    }
   ],
   "source": [
    "plt.figure(figsize=(8, 6))\n",
    "sns.violinplot(x='marital_status', y='annual_income', data=dataset)\n",
    "plt.xlabel('Marital Status')\n",
    "plt.ylabel('Annual Income')\n",
    "plt.title('Relationship between Marital Status and Income')\n",
    "plt.show()\n"
   ]
  },
  {
   "cell_type": "markdown",
   "metadata": {},
   "source": [
    "scatter plot between total purchases and annual income\n"
   ]
  },
  {
   "cell_type": "code",
   "execution_count": 10,
   "metadata": {},
   "outputs": [
    {
     "data": {
      "application/vnd.plotly.v1+json": {
       "config": {
        "plotlyServerURL": "https://plot.ly"
       },
       "data": [
        {
         "hovertemplate": "gender=Female<br>Total Purchases=%{x}<br>Annual Income=%{y}<extra></extra>",
         "legendgroup": "Female",
         "marker": {
          "color": "#636efa",
          "symbol": "circle"
         },
         "mode": "markers",
         "name": "Female",
         "orientation": "v",
         "showlegend": true,
         "type": "scatter",
         "x": [
          0.875,
          0.625,
          0.425,
          0.375,
          0.075,
          0.525,
          0.4,
          0.8,
          0.75,
          0.775,
          0.55,
          0.225,
          0.775,
          0.825,
          0.8,
          0.3,
          0.9,
          0.725,
          0.325,
          0.125,
          0.05,
          0.3,
          0.025,
          0.675,
          0.825,
          0.5,
          0.2,
          0.9,
          0.5,
          0.3,
          0.6,
          0.275,
          0.225,
          0.45,
          0.2,
          0.95,
          0.65,
          0.6,
          1,
          0.925,
          0.875,
          0.975,
          0.125,
          0.9,
          0.95,
          0.975,
          0.7,
          0.05,
          0.5,
          0.9,
          0.225,
          0.675,
          0.85,
          0.9,
          0.525,
          0.4,
          0.05,
          0.05,
          0.25,
          0.15,
          0.7,
          0.85,
          0.55,
          0.95,
          0.8,
          0.475,
          0.275,
          0.4,
          0.6,
          0.825,
          0.275,
          0.15,
          0.825,
          0.625,
          0.875,
          0.05,
          1,
          0.275,
          0.575,
          0.075,
          0.125,
          0.65,
          0.5,
          0.875,
          0.95,
          1,
          0.9,
          0.775,
          0.325,
          0.275,
          0.625,
          0.925,
          0.05,
          0.425,
          0.2,
          0.9,
          0.25,
          0.95,
          0.925,
          0.525,
          0.4,
          0.6,
          0.05,
          0,
          0.4,
          0.05,
          0.075,
          0.8,
          0.45,
          0.175,
          0.3,
          0.925,
          0.025,
          0.475,
          0.725,
          0.1,
          0.775,
          0.625,
          0,
          0.55,
          0.875,
          0.45,
          0.7,
          0.675,
          0.775,
          0.275,
          0.325,
          0.7,
          0.225,
          0.55,
          0.325,
          0.05,
          0.325,
          0.825,
          0.625,
          0.925,
          0.5,
          0.6,
          0.775,
          0.7,
          0.475,
          0.975,
          0.35,
          0.175,
          0.25,
          1,
          0.375,
          0.225,
          0.125,
          0.3,
          0,
          0.825,
          0.925,
          0.25,
          0.2,
          0.1,
          0.45,
          0.975,
          0.975,
          0.675,
          0.425,
          0,
          0.475,
          0.075,
          0.075,
          0.75,
          0.775,
          0.575,
          0.875,
          0.85,
          0.75,
          0.5,
          0.6,
          0.325,
          0.025,
          0.325,
          0.025,
          0.425,
          0.3,
          0.025,
          0.05,
          0.5,
          0.725,
          0.45,
          0.55,
          0.975,
          0.975,
          0.125,
          0.175,
          0.275,
          0.15,
          0.375,
          0.75,
          0.775,
          0.35,
          0.45,
          0.8,
          0.3,
          0.625,
          0.275,
          0.175,
          0.45,
          0.625,
          0.7,
          0.2,
          0.875,
          0,
          0.05,
          0.375,
          0.7,
          0.425,
          0.35,
          1,
          0.225,
          0.575,
          0.85,
          0.975,
          0.125,
          0.2,
          0.625,
          0.45,
          0.15,
          0.025,
          0.225,
          0.45,
          0.1,
          0.775,
          0.25,
          0.025,
          0.5,
          0.525,
          0.725,
          0.925,
          0.275,
          0.875,
          0.75,
          0.125,
          0.7,
          0.9,
          0.375,
          0.35,
          0.35,
          0.35,
          0.525,
          0.275,
          0.45,
          0.05,
          0.225,
          0.125,
          0.1,
          0.15,
          0.675
         ],
         "xaxis": "x",
         "y": [
          0.2190409372355116,
          0.6959441400507818,
          0.4003853178315292,
          0.1171989843645596,
          0.9395518731346608,
          0.4401755089313555,
          0.4815693349369682,
          0.2713372533297697,
          0.2605795358367856,
          0.6119092164461669,
          0.9718584346741505,
          0.9161209853445588,
          0.3592921733707515,
          0.3024633613969442,
          0.0652924406432357,
          0.7478952291861553,
          0.6245267049757227,
          0.4928615973985478,
          0.2399550091318099,
          0.5132633970332754,
          0.5150006681812107,
          0.087386966011849,
          0.413136442603234,
          0.7668715755712949,
          0.8799167000757272,
          0.6527907701902089,
          0.4684841195598913,
          0.9622366252394317,
          0.7683081651743953,
          0.1920575526749521,
          0.8281215198895274,
          0.60562831306517,
          0.5194218005256359,
          0.4279923381887834,
          0.6933382333288788,
          0.35886899193728,
          0.6021760434763241,
          0.3234442514143169,
          0.0091763552942224,
          0.0139761236580694,
          0.8417969620027618,
          0.7479397746002049,
          0.9213996169094392,
          0.9594079914472804,
          0.941946189139828,
          0.5594681277562475,
          0.6703305269722482,
          0.7474720477526838,
          0.9163103033542696,
          0.8430330972426389,
          0.6358969219118892,
          0.5085193104369905,
          0.8773664751213862,
          0.3006035903603724,
          0.5459597309456992,
          0.7103657178493474,
          0.6789834736513876,
          0.0414829168337119,
          0.2005657267584302,
          0.9408882355561496,
          0.1726802975633658,
          0.002305225177068,
          0.6953316406075994,
          0.2977860929217337,
          0.1042808142901688,
          0.7493318187892557,
          0.1808766537484966,
          0.7091852643770323,
          0.6736046149048955,
          0.2886876921020981,
          0.076740612053989,
          0.6623457615038532,
          0.7429172791661098,
          0.8621430798699274,
          0.8133101697180275,
          0.4117889438282329,
          0.8093344915140986,
          0.7806583812196535,
          0.5458595037640875,
          0.4133034879059201,
          0.771237026148158,
          0.8307496993184552,
          0.8591808098356274,
          0.0234086150830772,
          0.3611519444073233,
          0.3863201033453606,
          0.9567129938972784,
          0.717927301884271,
          0.9754109314446078,
          0.9611898080092656,
          0.5737003875451022,
          0.8372533297697002,
          0.4105416722348434,
          0.2368702392088734,
          0.723194797095639,
          0.0694351641498507,
          0.0378301928816428,
          0.8675330749699318,
          0.3826896521003162,
          0.75148113501715,
          0.9724709341173328,
          0.7646108958082766,
          0.2971847298320638,
          0.3817096529912245,
          0.881720789344737,
          0.1831818789255646,
          0.960989353646042,
          0.1700966635484876,
          0.8932246425230522,
          0.0236090694463005,
          0.0609938081874471,
          0.594848322865161,
          0.0303799723818432,
          0.1764777941110962,
          0.856753084769923,
          0,
          0.5129515791349281,
          0.5468172301661544,
          0.6369326027885429,
          0.68876119203528,
          0.882188516192258,
          0.4438282328834246,
          0.514132032607243,
          0.1270212481625016,
          0.4478930019154528,
          0.5736224330705154,
          0.4621029889972827,
          0.1931377789656554,
          0.7497438638692147,
          0.3274199296182458,
          0.4171900752817497,
          0.2992672279388837,
          0.6887946010958171,
          0.6136576239476146,
          0.5358256492494098,
          0.9505434540514054,
          0.7482515924985522,
          0.4839525145886231,
          0.430531426789612,
          0.0825537885874649,
          0.8978573655842131,
          0.0627310793353824,
          0.8766203394360551,
          0.9285157468038664,
          0.93135551694953,
          0.9590293554278588,
          0.7535747694774823,
          0.3541249053409951,
          0.7672724842977415,
          0.6868234665241213,
          0.4889527373156933,
          0.3749276137021693,
          0.6662991670007573,
          0.1750077954474586,
          0.5681210744353868,
          0.473250478863201,
          0.5925542340416055,
          0.0225511158626219,
          0.7581072653570315,
          0.2189518464074123,
          0.5118379437836875,
          0.679651654862132,
          0.9639070782662924,
          0.0698917546438594,
          0.2554011314535168,
          0.1226669339391509,
          0.1203171633480333,
          0.1029889972827297,
          0.1926477794111096,
          0.6982939106418994,
          0.0106240812508352,
          0.5489999554545859,
          0.0707826629248518,
          0.8407390084190832,
          0.8274867477393202,
          0.733729787518375,
          0.1141142144416232,
          0.6257739765691122,
          0.9389727827520156,
          0.5506258630673972,
          0.7574502204997996,
          0.308220856162858,
          0.7900240545235868,
          0.5270947480956836,
          0.7723395251458862,
          0.8394360550581318,
          0.2843890596463094,
          0.1649628045792685,
          0.561071762662034,
          0.49791750189318,
          0.5707937992783643,
          0.0158358946946411,
          0.9915920530981336,
          0.0890796917457347,
          0.4817920620072163,
          0.1867677847565593,
          0.9094169005300904,
          0.970176845293777,
          0.8804623813978351,
          0.7484297741547508,
          0.7793108824446523,
          0.1139917145529867,
          0.6636932602788543,
          0.0803710632990333,
          0.9108200810726536,
          0.1402400997817274,
          0.1405519176800748,
          0.8266181121653525,
          0.0769299300636999,
          0.6727137066239031,
          0.5019377255111587,
          0.2993897278275201,
          0.1176444385050559,
          0.7460688672101207,
          0.3742260234308878,
          0.2092409461445944,
          0.0017595438549601,
          0.94912913715533,
          0.63668760301127,
          0.0474074569023119,
          0.4670475299567909,
          0.9435164149850772,
          0.2546661321216981,
          0.8110606263085215,
          0.5356808766537485,
          0.6277785202013453,
          0.1139917145529867,
          0.9117221257071584,
          0.5550247227047975,
          0.6190142099870818,
          0.5563722214797987,
          0.8400930999153637,
          0.5798253819769255,
          0.580471290480645,
          0.3982916833711969,
          0.6170653481224108,
          0.6636487148648047,
          0.8574880841017417,
          0.3649271682480288,
          1,
          0.6365428304156087,
          0.595917412802352,
          0.5385874649204865,
          0.2972070025390886,
          0.4591184462559579,
          0.0940576417657802,
          0.5370172390752372,
          0.5776315203349816,
          0.3670542117688984,
          0.3596708093901732,
          0.9617132166243484,
          0.2454563677669383
         ],
         "yaxis": "y"
        },
        {
         "hovertemplate": "gender=Male<br>Total Purchases=%{x}<br>Annual Income=%{y}<extra></extra>",
         "legendgroup": "Male",
         "marker": {
          "color": "#EF553B",
          "symbol": "circle"
         },
         "mode": "markers",
         "name": "Male",
         "orientation": "v",
         "showlegend": true,
         "type": "scatter",
         "x": [
          0.075,
          0.475,
          0.075,
          0.3,
          0.85,
          0.25,
          0.125,
          0.575,
          0.85,
          0.75,
          0.9,
          0.225,
          0.6,
          0.425,
          0.35,
          0.2,
          0.9,
          0.925,
          0.525,
          0.05,
          0.775,
          0.875,
          0.525,
          0.225,
          0.75,
          0.275,
          0.9,
          0.15,
          0.6,
          0.275,
          0.025,
          0.175,
          0.825,
          0.675,
          0.925,
          0.225,
          0.975,
          0.325,
          0.825,
          0.9,
          0.925,
          0.025,
          0.45,
          0.225,
          0.025,
          0.3,
          1,
          0.075,
          0.4,
          0.075,
          0.9,
          0.025,
          0.1,
          0.85,
          0,
          0.85,
          0.6,
          0.75,
          0.375,
          0.525,
          1,
          0.6,
          0.875,
          1,
          0.25,
          0.375,
          0.9,
          0.575,
          1,
          0.825,
          0.35,
          0.05,
          0.8,
          0.725,
          0.425,
          0.2,
          0.2,
          0.9,
          0.825,
          0.3,
          0.6,
          0.5,
          0.875,
          0.7,
          0.475,
          0.475,
          0.325,
          0.775,
          0.4,
          0.175,
          0.5,
          0.8,
          0.275,
          0.25,
          0.225,
          0.1,
          0.625,
          0.85,
          0.6,
          0.225,
          0.8,
          0.625,
          0.05,
          0.075,
          0.275,
          0.975,
          0.575,
          0.825,
          0.275,
          0.425,
          0.425,
          0.825,
          0.875,
          0.2,
          0.025,
          0.9,
          0.25,
          0.325,
          0,
          0.525,
          0.85,
          0.25,
          1,
          0.45,
          0.225,
          0.05,
          0.325,
          1,
          0.575,
          0.975,
          0.75,
          0.325,
          0.975,
          0.425,
          0.825,
          0.4,
          0.05,
          0.45,
          0.15,
          0.3,
          0.775,
          0.375,
          0.8,
          0.425,
          0.1,
          0.6,
          0.525,
          0.875,
          0.175,
          0.675,
          0.825,
          0.175,
          0.075,
          0.325,
          0.6,
          0.9,
          0.65,
          0.95,
          1,
          0.45,
          0.525,
          0.375,
          0.875,
          0.125,
          0.45,
          0,
          0.85,
          0.95,
          0.45,
          0.075,
          0.575,
          0.85,
          0.9,
          0.6,
          0.825,
          0,
          0.7,
          0.2,
          0.575,
          0.6,
          0.775,
          0.775,
          0.15,
          0.9,
          0.15,
          0,
          1,
          0.725,
          0.6,
          1,
          0.75,
          0.475,
          0.85,
          0.625,
          0.825,
          0.325,
          0.1,
          0.2,
          0.475,
          0.55,
          1,
          0.4,
          0.375,
          0.325,
          0.075,
          0.825,
          0.15,
          0.8,
          0.975,
          0.025,
          0.95,
          0.725,
          0.5,
          0.475,
          0.8,
          0.475,
          0.625,
          0.925,
          0.35,
          0.05,
          0.05,
          0.575,
          0.9,
          0.175,
          0.775,
          0.575,
          0.75,
          0.875,
          0.175,
          0.025,
          0.95,
          0.275,
          0,
          0.075,
          0.875,
          0.95,
          0.25,
          0.025,
          0.625,
          0.15,
          0.7,
          0.9,
          0.3,
          0.2,
          0.225,
          0.35,
          0.025,
          0.85
         ],
         "xaxis": "x",
         "y": [
          0.0783553833132879,
          0.0049222682524834,
          0.8675330749699318,
          0.6961780034745423,
          0.5674528932246425,
          0.3526549066773575,
          0.6671900752817498,
          0.0770635663058488,
          0.0720187981647289,
          0.8937925965521849,
          0.5841240144327141,
          0.3258497037729965,
          0.0912178716201167,
          0.8609960354581496,
          0.2251770680208472,
          0.0259477036839057,
          0.1882934651877589,
          0.055670631208517,
          0.4857231947970956,
          0.77633747605684,
          0.9104414450532318,
          0.2569936300057909,
          0.5827208338901511,
          0.1195153458951401,
          0.9311216535257696,
          0.3346251503407724,
          0.4168114392623279,
          0.0690565281304289,
          0.8570092209007083,
          0.4152189407100539,
          0.5724642523052251,
          0.4708116174439841,
          0.6940509599536727,
          0.9292396097821728,
          0.4850772862933761,
          0.9927390975099114,
          0.156744175687113,
          0.8983919105528085,
          0.4099737182057107,
          0.640830326517885,
          0.7792552006770903,
          0.1815114258987037,
          0.1473450933226424,
          0.7383736469330482,
          0.189340282417925,
          0.735322286070649,
          0.8854960131854426,
          0.7696668003029088,
          0.1985500467726847,
          0.5425297340638782,
          0.040937235511604,
          0.3890819190164372,
          0.1924584614013987,
          0.9575927658247584,
          0.8370974208205265,
          0.780947926410976,
          0.6524789522918616,
          0.0278854291950643,
          0.3503496815002895,
          0.2750790681099381,
          0.3771548844046505,
          0.638747828411065,
          0.4763352487861375,
          0.6137467147757139,
          0.7341752416588713,
          0.7631743062051761,
          0.3361396944184596,
          0.3346362866942848,
          0.9763352487861374,
          0.6534144059869037,
          0.6140028509064992,
          0.0224620250345226,
          0.1070871753752951,
          0.7439418236892512,
          0.6566773575660386,
          0.4608891264644305,
          0.9410886899193728,
          0.5926433248697046,
          0.4318789255646131,
          0.3724107978083656,
          0.071361753307497,
          0.4104414450532317,
          0.374727159338946,
          0.9045280413381442,
          0.686099603545815,
          0.5029288609737628,
          0.3190899371909662,
          0.8362287852465589,
          0.7873290569735846,
          0.9321684707559356,
          0.6082008107265358,
          0.2051093589914918,
          0.0833444696868457,
          0.1175887567374938,
          0.8196913002806361,
          0.3344024232705243,
          0.1653191678916655,
          0.885618513074079,
          0.796806093812642,
          0.3141008508174083,
          0.838344692413916,
          0.2604347632411243,
          0.5057018129983518,
          0.4020446345048777,
          0.1540714508441356,
          0.613780123836251,
          0.933850060136309,
          0.850995590004009,
          0.4114882622833979,
          0.6759321127889883,
          0.9002182725288431,
          0.9995211367989666,
          0.088756737493875,
          0.1006726357521493,
          0.2805247449775045,
          0.1354960131854425,
          0.0138313510624081,
          0.1807096084458105,
          0.9861575125840796,
          0.7757695220277072,
          0.1414205532540424,
          0.9930175063477216,
          0.6439707782083834,
          0.0243997505456813,
          0.6326339703327543,
          0.8019510891353735,
          0.1875027840883781,
          0.0812285625194886,
          0.4775268386119649,
          0.8102253997950911,
          0.2483852287407011,
          0.1149828500155909,
          0.9618691255735222,
          0.0387879192837097,
          0.409105082631743,
          0.5976769566573121,
          0.5499020000890908,
          0.4976056839948327,
          0.9386609648536683,
          0.5420842799233819,
          0.7384404650541226,
          0.6580805381086017,
          0.1376453294133369,
          0.7045748140228963,
          0.6888836919239164,
          0.9548086774466568,
          0.4142166688939374,
          0.27337520602254,
          0.375495567731302,
          0.3225087977192748,
          0.8873557842220143,
          0.7277718383892379,
          0.7679518018619983,
          0.5797919729163883,
          0.5293777005657267,
          0.1011514989531827,
          0.4319568800391999,
          0.4972604570359481,
          0.926410975990022,
          0.0132299879727382,
          0.5450688226647067,
          0.8375094659004856,
          0.2898124638068511,
          0.6626798521092253,
          0.16626575794022,
          0.9340727872065572,
          0.5538219965254577,
          0.8170631208517083,
          0.4869036482694107,
          0.206924584614014,
          0.226736157512584,
          0.0732437970510935,
          0.595973094569914,
          0.1612321261526126,
          0.0076729475700476,
          0.9230366608757627,
          0.2722727070248118,
          0.9845872867388302,
          0.5080961290035191,
          0.0971201389816918,
          0.5458483674105751,
          0.5141097599002182,
          0.7607799902000089,
          0.1662434852331952,
          0.5340104236268877,
          0.4087264466123212,
          0.4702213907078266,
          0.2913381442380507,
          0.2674172568934028,
          0.704786404739632,
          0.5093990823644706,
          0.0802708361174217,
          0.0518397256002494,
          0.4246737048420865,
          0.1177223929796427,
          0.1798966546394048,
          0.9677491202280724,
          0.0227627065793576,
          0.952258452492316,
          0.4024121341707871,
          0.7216134348968773,
          0.3221412980533654,
          0.2830749699318455,
          0.7897679183928015,
          0.008697492093189,
          0.2354225132522606,
          0.6970577754020224,
          0.3445142322597888,
          0.7720833890151009,
          0.213428215065259,
          0.6374226023430888,
          0.7191968461846853,
          0.8038888146465322,
          0.7626508975900931,
          0.0616285803376542,
          0.9736513875896476,
          0.498574546750412,
          0.6239253418860529,
          0.2893113278987928,
          0.9479486836830148,
          0.6642500779544745,
          0.6266426121430799,
          0.9584279923381888,
          0.5061249944318232,
          0.450064590850372,
          0.1516103167178939,
          0.556572675843022,
          0.1050603590360372,
          0.8407278720655709,
          0.4795091095371731,
          0.2225043431778698,
          0.7805136086239921,
          0.5374961022762706,
          0.8323867432847788,
          0.3352153770769299,
          0.9116441712325716,
          0.1961557307675175,
          0.1346385139649873,
          0.9319346073321751,
          0.5230522517706802,
          0.90177736202058,
          0.347810592899461,
          0.2637533965878212,
          0.0564947213684351,
          0.2009220900708272,
          0.3371308298810637,
          0.7024811795625641,
          0.2772395206913448
         ],
         "yaxis": "y"
        }
       ],
       "layout": {
        "legend": {
         "title": {
          "text": "gender"
         },
         "tracegroupgap": 0
        },
        "template": {
         "data": {
          "bar": [
           {
            "error_x": {
             "color": "#2a3f5f"
            },
            "error_y": {
             "color": "#2a3f5f"
            },
            "marker": {
             "line": {
              "color": "#E5ECF6",
              "width": 0.5
             },
             "pattern": {
              "fillmode": "overlay",
              "size": 10,
              "solidity": 0.2
             }
            },
            "type": "bar"
           }
          ],
          "barpolar": [
           {
            "marker": {
             "line": {
              "color": "#E5ECF6",
              "width": 0.5
             },
             "pattern": {
              "fillmode": "overlay",
              "size": 10,
              "solidity": 0.2
             }
            },
            "type": "barpolar"
           }
          ],
          "carpet": [
           {
            "aaxis": {
             "endlinecolor": "#2a3f5f",
             "gridcolor": "white",
             "linecolor": "white",
             "minorgridcolor": "white",
             "startlinecolor": "#2a3f5f"
            },
            "baxis": {
             "endlinecolor": "#2a3f5f",
             "gridcolor": "white",
             "linecolor": "white",
             "minorgridcolor": "white",
             "startlinecolor": "#2a3f5f"
            },
            "type": "carpet"
           }
          ],
          "choropleth": [
           {
            "colorbar": {
             "outlinewidth": 0,
             "ticks": ""
            },
            "type": "choropleth"
           }
          ],
          "contour": [
           {
            "colorbar": {
             "outlinewidth": 0,
             "ticks": ""
            },
            "colorscale": [
             [
              0,
              "#0d0887"
             ],
             [
              0.1111111111111111,
              "#46039f"
             ],
             [
              0.2222222222222222,
              "#7201a8"
             ],
             [
              0.3333333333333333,
              "#9c179e"
             ],
             [
              0.4444444444444444,
              "#bd3786"
             ],
             [
              0.5555555555555556,
              "#d8576b"
             ],
             [
              0.6666666666666666,
              "#ed7953"
             ],
             [
              0.7777777777777778,
              "#fb9f3a"
             ],
             [
              0.8888888888888888,
              "#fdca26"
             ],
             [
              1,
              "#f0f921"
             ]
            ],
            "type": "contour"
           }
          ],
          "contourcarpet": [
           {
            "colorbar": {
             "outlinewidth": 0,
             "ticks": ""
            },
            "type": "contourcarpet"
           }
          ],
          "heatmap": [
           {
            "colorbar": {
             "outlinewidth": 0,
             "ticks": ""
            },
            "colorscale": [
             [
              0,
              "#0d0887"
             ],
             [
              0.1111111111111111,
              "#46039f"
             ],
             [
              0.2222222222222222,
              "#7201a8"
             ],
             [
              0.3333333333333333,
              "#9c179e"
             ],
             [
              0.4444444444444444,
              "#bd3786"
             ],
             [
              0.5555555555555556,
              "#d8576b"
             ],
             [
              0.6666666666666666,
              "#ed7953"
             ],
             [
              0.7777777777777778,
              "#fb9f3a"
             ],
             [
              0.8888888888888888,
              "#fdca26"
             ],
             [
              1,
              "#f0f921"
             ]
            ],
            "type": "heatmap"
           }
          ],
          "heatmapgl": [
           {
            "colorbar": {
             "outlinewidth": 0,
             "ticks": ""
            },
            "colorscale": [
             [
              0,
              "#0d0887"
             ],
             [
              0.1111111111111111,
              "#46039f"
             ],
             [
              0.2222222222222222,
              "#7201a8"
             ],
             [
              0.3333333333333333,
              "#9c179e"
             ],
             [
              0.4444444444444444,
              "#bd3786"
             ],
             [
              0.5555555555555556,
              "#d8576b"
             ],
             [
              0.6666666666666666,
              "#ed7953"
             ],
             [
              0.7777777777777778,
              "#fb9f3a"
             ],
             [
              0.8888888888888888,
              "#fdca26"
             ],
             [
              1,
              "#f0f921"
             ]
            ],
            "type": "heatmapgl"
           }
          ],
          "histogram": [
           {
            "marker": {
             "pattern": {
              "fillmode": "overlay",
              "size": 10,
              "solidity": 0.2
             }
            },
            "type": "histogram"
           }
          ],
          "histogram2d": [
           {
            "colorbar": {
             "outlinewidth": 0,
             "ticks": ""
            },
            "colorscale": [
             [
              0,
              "#0d0887"
             ],
             [
              0.1111111111111111,
              "#46039f"
             ],
             [
              0.2222222222222222,
              "#7201a8"
             ],
             [
              0.3333333333333333,
              "#9c179e"
             ],
             [
              0.4444444444444444,
              "#bd3786"
             ],
             [
              0.5555555555555556,
              "#d8576b"
             ],
             [
              0.6666666666666666,
              "#ed7953"
             ],
             [
              0.7777777777777778,
              "#fb9f3a"
             ],
             [
              0.8888888888888888,
              "#fdca26"
             ],
             [
              1,
              "#f0f921"
             ]
            ],
            "type": "histogram2d"
           }
          ],
          "histogram2dcontour": [
           {
            "colorbar": {
             "outlinewidth": 0,
             "ticks": ""
            },
            "colorscale": [
             [
              0,
              "#0d0887"
             ],
             [
              0.1111111111111111,
              "#46039f"
             ],
             [
              0.2222222222222222,
              "#7201a8"
             ],
             [
              0.3333333333333333,
              "#9c179e"
             ],
             [
              0.4444444444444444,
              "#bd3786"
             ],
             [
              0.5555555555555556,
              "#d8576b"
             ],
             [
              0.6666666666666666,
              "#ed7953"
             ],
             [
              0.7777777777777778,
              "#fb9f3a"
             ],
             [
              0.8888888888888888,
              "#fdca26"
             ],
             [
              1,
              "#f0f921"
             ]
            ],
            "type": "histogram2dcontour"
           }
          ],
          "mesh3d": [
           {
            "colorbar": {
             "outlinewidth": 0,
             "ticks": ""
            },
            "type": "mesh3d"
           }
          ],
          "parcoords": [
           {
            "line": {
             "colorbar": {
              "outlinewidth": 0,
              "ticks": ""
             }
            },
            "type": "parcoords"
           }
          ],
          "pie": [
           {
            "automargin": true,
            "type": "pie"
           }
          ],
          "scatter": [
           {
            "fillpattern": {
             "fillmode": "overlay",
             "size": 10,
             "solidity": 0.2
            },
            "type": "scatter"
           }
          ],
          "scatter3d": [
           {
            "line": {
             "colorbar": {
              "outlinewidth": 0,
              "ticks": ""
             }
            },
            "marker": {
             "colorbar": {
              "outlinewidth": 0,
              "ticks": ""
             }
            },
            "type": "scatter3d"
           }
          ],
          "scattercarpet": [
           {
            "marker": {
             "colorbar": {
              "outlinewidth": 0,
              "ticks": ""
             }
            },
            "type": "scattercarpet"
           }
          ],
          "scattergeo": [
           {
            "marker": {
             "colorbar": {
              "outlinewidth": 0,
              "ticks": ""
             }
            },
            "type": "scattergeo"
           }
          ],
          "scattergl": [
           {
            "marker": {
             "colorbar": {
              "outlinewidth": 0,
              "ticks": ""
             }
            },
            "type": "scattergl"
           }
          ],
          "scattermapbox": [
           {
            "marker": {
             "colorbar": {
              "outlinewidth": 0,
              "ticks": ""
             }
            },
            "type": "scattermapbox"
           }
          ],
          "scatterpolar": [
           {
            "marker": {
             "colorbar": {
              "outlinewidth": 0,
              "ticks": ""
             }
            },
            "type": "scatterpolar"
           }
          ],
          "scatterpolargl": [
           {
            "marker": {
             "colorbar": {
              "outlinewidth": 0,
              "ticks": ""
             }
            },
            "type": "scatterpolargl"
           }
          ],
          "scatterternary": [
           {
            "marker": {
             "colorbar": {
              "outlinewidth": 0,
              "ticks": ""
             }
            },
            "type": "scatterternary"
           }
          ],
          "surface": [
           {
            "colorbar": {
             "outlinewidth": 0,
             "ticks": ""
            },
            "colorscale": [
             [
              0,
              "#0d0887"
             ],
             [
              0.1111111111111111,
              "#46039f"
             ],
             [
              0.2222222222222222,
              "#7201a8"
             ],
             [
              0.3333333333333333,
              "#9c179e"
             ],
             [
              0.4444444444444444,
              "#bd3786"
             ],
             [
              0.5555555555555556,
              "#d8576b"
             ],
             [
              0.6666666666666666,
              "#ed7953"
             ],
             [
              0.7777777777777778,
              "#fb9f3a"
             ],
             [
              0.8888888888888888,
              "#fdca26"
             ],
             [
              1,
              "#f0f921"
             ]
            ],
            "type": "surface"
           }
          ],
          "table": [
           {
            "cells": {
             "fill": {
              "color": "#EBF0F8"
             },
             "line": {
              "color": "white"
             }
            },
            "header": {
             "fill": {
              "color": "#C8D4E3"
             },
             "line": {
              "color": "white"
             }
            },
            "type": "table"
           }
          ]
         },
         "layout": {
          "annotationdefaults": {
           "arrowcolor": "#2a3f5f",
           "arrowhead": 0,
           "arrowwidth": 1
          },
          "autotypenumbers": "strict",
          "coloraxis": {
           "colorbar": {
            "outlinewidth": 0,
            "ticks": ""
           }
          },
          "colorscale": {
           "diverging": [
            [
             0,
             "#8e0152"
            ],
            [
             0.1,
             "#c51b7d"
            ],
            [
             0.2,
             "#de77ae"
            ],
            [
             0.3,
             "#f1b6da"
            ],
            [
             0.4,
             "#fde0ef"
            ],
            [
             0.5,
             "#f7f7f7"
            ],
            [
             0.6,
             "#e6f5d0"
            ],
            [
             0.7,
             "#b8e186"
            ],
            [
             0.8,
             "#7fbc41"
            ],
            [
             0.9,
             "#4d9221"
            ],
            [
             1,
             "#276419"
            ]
           ],
           "sequential": [
            [
             0,
             "#0d0887"
            ],
            [
             0.1111111111111111,
             "#46039f"
            ],
            [
             0.2222222222222222,
             "#7201a8"
            ],
            [
             0.3333333333333333,
             "#9c179e"
            ],
            [
             0.4444444444444444,
             "#bd3786"
            ],
            [
             0.5555555555555556,
             "#d8576b"
            ],
            [
             0.6666666666666666,
             "#ed7953"
            ],
            [
             0.7777777777777778,
             "#fb9f3a"
            ],
            [
             0.8888888888888888,
             "#fdca26"
            ],
            [
             1,
             "#f0f921"
            ]
           ],
           "sequentialminus": [
            [
             0,
             "#0d0887"
            ],
            [
             0.1111111111111111,
             "#46039f"
            ],
            [
             0.2222222222222222,
             "#7201a8"
            ],
            [
             0.3333333333333333,
             "#9c179e"
            ],
            [
             0.4444444444444444,
             "#bd3786"
            ],
            [
             0.5555555555555556,
             "#d8576b"
            ],
            [
             0.6666666666666666,
             "#ed7953"
            ],
            [
             0.7777777777777778,
             "#fb9f3a"
            ],
            [
             0.8888888888888888,
             "#fdca26"
            ],
            [
             1,
             "#f0f921"
            ]
           ]
          },
          "colorway": [
           "#636efa",
           "#EF553B",
           "#00cc96",
           "#ab63fa",
           "#FFA15A",
           "#19d3f3",
           "#FF6692",
           "#B6E880",
           "#FF97FF",
           "#FECB52"
          ],
          "font": {
           "color": "#2a3f5f"
          },
          "geo": {
           "bgcolor": "white",
           "lakecolor": "white",
           "landcolor": "#E5ECF6",
           "showlakes": true,
           "showland": true,
           "subunitcolor": "white"
          },
          "hoverlabel": {
           "align": "left"
          },
          "hovermode": "closest",
          "mapbox": {
           "style": "light"
          },
          "paper_bgcolor": "white",
          "plot_bgcolor": "#E5ECF6",
          "polar": {
           "angularaxis": {
            "gridcolor": "white",
            "linecolor": "white",
            "ticks": ""
           },
           "bgcolor": "#E5ECF6",
           "radialaxis": {
            "gridcolor": "white",
            "linecolor": "white",
            "ticks": ""
           }
          },
          "scene": {
           "xaxis": {
            "backgroundcolor": "#E5ECF6",
            "gridcolor": "white",
            "gridwidth": 2,
            "linecolor": "white",
            "showbackground": true,
            "ticks": "",
            "zerolinecolor": "white"
           },
           "yaxis": {
            "backgroundcolor": "#E5ECF6",
            "gridcolor": "white",
            "gridwidth": 2,
            "linecolor": "white",
            "showbackground": true,
            "ticks": "",
            "zerolinecolor": "white"
           },
           "zaxis": {
            "backgroundcolor": "#E5ECF6",
            "gridcolor": "white",
            "gridwidth": 2,
            "linecolor": "white",
            "showbackground": true,
            "ticks": "",
            "zerolinecolor": "white"
           }
          },
          "shapedefaults": {
           "line": {
            "color": "#2a3f5f"
           }
          },
          "ternary": {
           "aaxis": {
            "gridcolor": "white",
            "linecolor": "white",
            "ticks": ""
           },
           "baxis": {
            "gridcolor": "white",
            "linecolor": "white",
            "ticks": ""
           },
           "bgcolor": "#E5ECF6",
           "caxis": {
            "gridcolor": "white",
            "linecolor": "white",
            "ticks": ""
           }
          },
          "title": {
           "x": 0.05
          },
          "xaxis": {
           "automargin": true,
           "gridcolor": "white",
           "linecolor": "white",
           "ticks": "",
           "title": {
            "standoff": 15
           },
           "zerolinecolor": "white",
           "zerolinewidth": 2
          },
          "yaxis": {
           "automargin": true,
           "gridcolor": "white",
           "linecolor": "white",
           "ticks": "",
           "title": {
            "standoff": 15
           },
           "zerolinecolor": "white",
           "zerolinewidth": 2
          }
         }
        },
        "title": {
         "text": "Scatter Plot of Total Purchases vs. Annual Income"
        },
        "xaxis": {
         "anchor": "y",
         "domain": [
          0,
          1
         ],
         "title": {
          "text": "Total Purchases"
         }
        },
        "yaxis": {
         "anchor": "x",
         "domain": [
          0,
          1
         ],
         "title": {
          "text": "Annual Income"
         }
        }
       }
      }
     },
     "metadata": {},
     "output_type": "display_data"
    }
   ],
   "source": [
    "fig = px.scatter(dataset, x='total_purchases', y='annual_income', color='gender', \n",
    "                 title='Scatter Plot of Total Purchases vs. Annual Income',\n",
    "                 labels={'total_purchases': 'Total Purchases', 'annual_income': 'Annual Income'})\n",
    "\n",
    "fig.show()"
   ]
  },
  {
   "cell_type": "markdown",
   "metadata": {},
   "source": [
    "bar chart between age and preferred category\n"
   ]
  },
  {
   "cell_type": "code",
   "execution_count": 11,
   "metadata": {},
   "outputs": [
    {
     "data": {
      "application/vnd.plotly.v1+json": {
       "config": {
        "plotlyServerURL": "https://plot.ly"
       },
       "data": [
        {
         "alignmentgroup": "True",
         "hovertemplate": "preferred_category=%{x}<br>Age=%{y}<extra></extra>",
         "legendgroup": "",
         "marker": {
          "color": "#636efa",
          "pattern": {
           "shape": ""
          }
         },
         "name": "",
         "offsetgroup": "",
         "orientation": "v",
         "showlegend": false,
         "textposition": "auto",
         "type": "bar",
         "x": [
          "Home Goods",
          "Home Goods",
          "Electronics",
          "Home Goods",
          "Appliances",
          "Home Goods",
          "Appliances",
          "Appliances",
          "Appliances",
          "Electronics",
          "Appliances",
          "Home Goods",
          "Appliances",
          "Appliances",
          "Home Goods",
          "Appliances",
          "Electronics",
          "Electronics",
          "Home Goods",
          "Electronics",
          "Electronics",
          "Appliances",
          "Home Goods",
          "Home Goods",
          "Appliances",
          "Appliances",
          "Appliances",
          "Appliances",
          "Home Goods",
          "Appliances",
          "Appliances",
          "Appliances",
          "Appliances",
          "Electronics",
          "Appliances",
          "Appliances",
          "Appliances",
          "Appliances",
          "Electronics",
          "Electronics",
          "Appliances",
          "Home Goods",
          "Appliances",
          "Electronics",
          "Home Goods",
          "Appliances",
          "Home Goods",
          "Appliances",
          "Appliances",
          "Appliances",
          "Home Goods",
          "Home Goods",
          "Electronics",
          "Appliances",
          "Appliances",
          "Electronics",
          "Electronics",
          "Appliances",
          "Home Goods",
          "Appliances",
          "Appliances",
          "Appliances",
          "Electronics",
          "Appliances",
          "Appliances",
          "Appliances",
          "Appliances",
          "Appliances",
          "Home Goods",
          "Electronics",
          "Electronics",
          "Appliances",
          "Home Goods",
          "Electronics",
          "Electronics",
          "Appliances",
          "Home Goods",
          "Home Goods",
          "Appliances",
          "Electronics",
          "Home Goods",
          "Home Goods",
          "Electronics",
          "Appliances",
          "Appliances",
          "Appliances",
          "Home Goods",
          "Home Goods",
          "Appliances",
          "Electronics",
          "Home Goods",
          "Electronics",
          "Appliances",
          "Electronics",
          "Home Goods",
          "Home Goods",
          "Appliances",
          "Electronics",
          "Electronics",
          "Appliances",
          "Appliances",
          "Appliances",
          "Electronics",
          "Appliances",
          "Appliances",
          "Electronics",
          "Appliances",
          "Electronics",
          "Electronics",
          "Appliances",
          "Electronics",
          "Electronics",
          "Appliances",
          "Home Goods",
          "Appliances",
          "Electronics",
          "Home Goods",
          "Appliances",
          "Home Goods",
          "Electronics",
          "Home Goods",
          "Appliances",
          "Home Goods",
          "Electronics",
          "Home Goods",
          "Appliances",
          "Home Goods",
          "Home Goods",
          "Electronics",
          "Electronics",
          "Home Goods",
          "Electronics",
          "Electronics",
          "Electronics",
          "Home Goods",
          "Electronics",
          "Electronics",
          "Home Goods",
          "Home Goods",
          "Appliances",
          "Appliances",
          "Home Goods",
          "Appliances",
          "Home Goods",
          "Home Goods",
          "Appliances",
          "Electronics",
          "Appliances",
          "Home Goods",
          "Appliances",
          "Appliances",
          "Home Goods",
          "Home Goods",
          "Home Goods",
          "Appliances",
          "Home Goods",
          "Appliances",
          "Electronics",
          "Electronics",
          "Home Goods",
          "Home Goods",
          "Home Goods",
          "Electronics",
          "Home Goods",
          "Home Goods",
          "Appliances",
          "Electronics",
          "Appliances",
          "Electronics",
          "Home Goods",
          "Appliances",
          "Home Goods",
          "Appliances",
          "Appliances",
          "Home Goods",
          "Home Goods",
          "Home Goods",
          "Electronics",
          "Electronics",
          "Appliances",
          "Appliances",
          "Appliances",
          "Home Goods",
          "Home Goods",
          "Electronics",
          "Electronics",
          "Electronics",
          "Appliances",
          "Home Goods",
          "Appliances",
          "Home Goods",
          "Electronics",
          "Appliances",
          "Home Goods",
          "Home Goods",
          "Home Goods",
          "Home Goods",
          "Home Goods",
          "Appliances",
          "Home Goods",
          "Appliances",
          "Home Goods",
          "Home Goods",
          "Appliances",
          "Electronics",
          "Appliances",
          "Home Goods",
          "Home Goods",
          "Electronics",
          "Appliances",
          "Appliances",
          "Home Goods",
          "Electronics",
          "Electronics",
          "Electronics",
          "Electronics",
          "Appliances",
          "Home Goods",
          "Electronics",
          "Electronics",
          "Home Goods",
          "Home Goods",
          "Electronics",
          "Electronics",
          "Electronics",
          "Home Goods",
          "Electronics",
          "Appliances",
          "Appliances",
          "Home Goods",
          "Appliances",
          "Home Goods",
          "Appliances",
          "Appliances",
          "Home Goods",
          "Appliances",
          "Electronics",
          "Appliances",
          "Home Goods",
          "Appliances",
          "Appliances",
          "Electronics",
          "Appliances",
          "Home Goods",
          "Appliances",
          "Home Goods",
          "Home Goods",
          "Home Goods",
          "Electronics",
          "Home Goods",
          "Home Goods",
          "Appliances",
          "Appliances",
          "Appliances",
          "Home Goods",
          "Electronics",
          "Appliances",
          "Electronics",
          "Home Goods",
          "Electronics",
          "Appliances",
          "Electronics",
          "Home Goods",
          "Appliances",
          "Home Goods",
          "Electronics",
          "Appliances",
          "Home Goods",
          "Electronics",
          "Electronics",
          "Electronics",
          "Home Goods",
          "Appliances",
          "Appliances",
          "Electronics",
          "Appliances",
          "Home Goods",
          "Appliances",
          "Appliances",
          "Appliances",
          "Appliances",
          "Appliances",
          "Electronics",
          "Electronics",
          "Home Goods",
          "Appliances",
          "Home Goods",
          "Electronics",
          "Appliances",
          "Home Goods",
          "Home Goods",
          "Appliances",
          "Electronics",
          "Home Goods",
          "Electronics",
          "Appliances",
          "Appliances",
          "Appliances",
          "Electronics",
          "Electronics",
          "Appliances",
          "Appliances",
          "Electronics",
          "Home Goods",
          "Home Goods",
          "Appliances",
          "Appliances",
          "Electronics",
          "Home Goods",
          "Electronics",
          "Appliances",
          "Electronics",
          "Electronics",
          "Appliances",
          "Electronics",
          "Home Goods",
          "Home Goods",
          "Home Goods",
          "Home Goods",
          "Appliances",
          "Electronics",
          "Electronics",
          "Electronics",
          "Electronics",
          "Electronics",
          "Electronics",
          "Appliances",
          "Electronics",
          "Home Goods",
          "Home Goods",
          "Home Goods",
          "Home Goods",
          "Appliances",
          "Appliances",
          "Home Goods",
          "Home Goods",
          "Home Goods",
          "Home Goods",
          "Home Goods",
          "Electronics",
          "Appliances",
          "Electronics",
          "Home Goods",
          "Appliances",
          "Appliances",
          "Home Goods",
          "Appliances",
          "Appliances",
          "Home Goods",
          "Appliances",
          "Home Goods",
          "Electronics",
          "Electronics",
          "Home Goods",
          "Appliances",
          "Appliances",
          "Appliances",
          "Appliances",
          "Electronics",
          "Appliances",
          "Appliances",
          "Home Goods",
          "Electronics",
          "Appliances",
          "Appliances",
          "Electronics",
          "Home Goods",
          "Appliances",
          "Appliances",
          "Appliances",
          "Electronics",
          "Electronics",
          "Home Goods",
          "Home Goods",
          "Electronics",
          "Electronics",
          "Appliances",
          "Home Goods",
          "Electronics",
          "Appliances",
          "Appliances",
          "Electronics",
          "Home Goods",
          "Appliances",
          "Electronics",
          "Appliances",
          "Appliances",
          "Home Goods",
          "Appliances",
          "Electronics",
          "Electronics",
          "Electronics",
          "Electronics",
          "Electronics",
          "Electronics",
          "Electronics",
          "Appliances",
          "Home Goods",
          "Electronics",
          "Electronics",
          "Appliances",
          "Home Goods",
          "Home Goods",
          "Electronics",
          "Appliances",
          "Electronics",
          "Appliances",
          "Home Goods",
          "Home Goods",
          "Appliances",
          "Appliances",
          "Electronics",
          "Appliances",
          "Appliances",
          "Appliances",
          "Home Goods",
          "Home Goods",
          "Appliances",
          "Appliances",
          "Appliances",
          "Home Goods",
          "Home Goods",
          "Appliances",
          "Home Goods",
          "Appliances",
          "Electronics",
          "Appliances",
          "Electronics",
          "Appliances",
          "Appliances",
          "Electronics",
          "Appliances",
          "Home Goods",
          "Home Goods",
          "Appliances",
          "Home Goods",
          "Electronics",
          "Appliances",
          "Appliances",
          "Electronics",
          "Electronics",
          "Home Goods",
          "Appliances",
          "Appliances",
          "Home Goods",
          "Appliances",
          "Electronics",
          "Appliances",
          "Appliances",
          "Electronics",
          "Electronics",
          "Electronics",
          "Home Goods",
          "Home Goods",
          "Home Goods",
          "Electronics",
          "Appliances",
          "Home Goods",
          "Electronics",
          "Electronics",
          "Appliances",
          "Appliances",
          "Appliances",
          "Appliances",
          "Home Goods",
          "Home Goods",
          "Home Goods",
          "Electronics",
          "Home Goods",
          "Electronics",
          "Appliances",
          "Appliances",
          "Appliances",
          "Appliances",
          "Electronics",
          "Electronics",
          "Appliances",
          "Home Goods",
          "Appliances",
          "Electronics",
          "Appliances",
          "Home Goods",
          "Home Goods",
          "Home Goods",
          "Electronics",
          "Appliances",
          "Appliances",
          "Electronics",
          "Appliances",
          "Home Goods",
          "Appliances",
          "Appliances",
          "Appliances",
          "Electronics",
          "Appliances",
          "Home Goods",
          "Electronics",
          "Electronics",
          "Home Goods",
          "Electronics"
         ],
         "xaxis": "x",
         "y": [
          60,
          23,
          40,
          57,
          23,
          35,
          21,
          60,
          20,
          59,
          39,
          45,
          48,
          38,
          54,
          25,
          34,
          58,
          22,
          42,
          39,
          41,
          54,
          62,
          29,
          28,
          30,
          59,
          42,
          63,
          60,
          63,
          28,
          32,
          49,
          36,
          44,
          47,
          39,
          56,
          49,
          20,
          25,
          55,
          41,
          44,
          27,
          40,
          42,
          42,
          58,
          53,
          40,
          57,
          31,
          39,
          38,
          64,
          48,
          53,
          23,
          65,
          40,
          37,
          54,
          27,
          20,
          62,
          43,
          28,
          37,
          54,
          29,
          20,
          47,
          48,
          38,
          37,
          52,
          54,
          44,
          65,
          36,
          64,
          26,
          30,
          56,
          20,
          58,
          50,
          30,
          62,
          39,
          42,
          63,
          44,
          47,
          37,
          20,
          20,
          50,
          64,
          23,
          65,
          64,
          62,
          58,
          47,
          56,
          22,
          48,
          24,
          48,
          27,
          51,
          21,
          55,
          53,
          63,
          44,
          45,
          63,
          51,
          51,
          61,
          61,
          57,
          50,
          35,
          59,
          29,
          61,
          34,
          28,
          27,
          27,
          57,
          22,
          45,
          56,
          46,
          64,
          60,
          47,
          54,
          28,
          50,
          64,
          49,
          45,
          62,
          44,
          34,
          63,
          48,
          33,
          37,
          50,
          23,
          20,
          29,
          37,
          30,
          45,
          37,
          49,
          32,
          20,
          23,
          45,
          21,
          51,
          65,
          30,
          28,
          63,
          42,
          64,
          38,
          60,
          21,
          58,
          29,
          34,
          50,
          28,
          39,
          47,
          47,
          41,
          55,
          63,
          53,
          52,
          20,
          31,
          48,
          24,
          25,
          62,
          48,
          36,
          54,
          50,
          58,
          22,
          30,
          20,
          41,
          59,
          33,
          29,
          53,
          46,
          33,
          22,
          36,
          60,
          34,
          50,
          35,
          28,
          65,
          43,
          59,
          32,
          30,
          62,
          39,
          37,
          61,
          38,
          43,
          60,
          55,
          38,
          58,
          22,
          28,
          51,
          40,
          39,
          41,
          40,
          57,
          22,
          34,
          44,
          44,
          22,
          61,
          54,
          39,
          57,
          64,
          49,
          65,
          22,
          57,
          28,
          24,
          61,
          45,
          44,
          34,
          39,
          38,
          63,
          30,
          53,
          40,
          37,
          20,
          39,
          52,
          55,
          25,
          58,
          32,
          63,
          27,
          41,
          35,
          45,
          53,
          48,
          55,
          59,
          49,
          52,
          60,
          52,
          55,
          53,
          41,
          47,
          37,
          33,
          36,
          39,
          36,
          63,
          22,
          61,
          39,
          35,
          56,
          31,
          31,
          31,
          25,
          28,
          51,
          29,
          39,
          56,
          25,
          51,
          44,
          23,
          42,
          38,
          20,
          58,
          59,
          49,
          50,
          48,
          56,
          45,
          25,
          24,
          43,
          53,
          36,
          52,
          61,
          24,
          42,
          65,
          64,
          22,
          44,
          34,
          51,
          48,
          46,
          53,
          20,
          21,
          62,
          20,
          56,
          39,
          57,
          41,
          35,
          57,
          43,
          54,
          58,
          63,
          51,
          62,
          47,
          24,
          49,
          44,
          48,
          20,
          44,
          63,
          61,
          49,
          23,
          24,
          54,
          53,
          64,
          41,
          47,
          23,
          35,
          27,
          32,
          36,
          27,
          57,
          24,
          64,
          43,
          53,
          43,
          64,
          30,
          58,
          57,
          65,
          62,
          39,
          34,
          39,
          41,
          40,
          29,
          32,
          38,
          21,
          34,
          20,
          29,
          58,
          40,
          48,
          36,
          61,
          58,
          20,
          32,
          36,
          56,
          22,
          64,
          38,
          53,
          55,
          25,
          49,
          64,
          22,
          28,
          49,
          20,
          37,
          54,
          33,
          39,
          52,
          33,
          65,
          34,
          61,
          59,
          24,
          61,
          49,
          45,
          39,
          42,
          30,
          37,
          49,
          27,
          41,
          26,
          45,
          21,
          58,
          33,
          46,
          58,
          21,
          46,
          46,
          29,
          43,
          60,
          57,
          56,
          60,
          45,
          25,
          40,
          46,
          42,
          57,
          56,
          54,
          33,
          30,
          49,
          60,
          45,
          30,
          47,
          30,
          61,
          40,
          23,
          58,
          55,
          43,
          21,
          45,
          27,
          60,
          36,
          55,
          29,
          48
         ],
         "yaxis": "y"
        }
       ],
       "layout": {
        "barmode": "relative",
        "legend": {
         "tracegroupgap": 0
        },
        "template": {
         "data": {
          "bar": [
           {
            "error_x": {
             "color": "#2a3f5f"
            },
            "error_y": {
             "color": "#2a3f5f"
            },
            "marker": {
             "line": {
              "color": "#E5ECF6",
              "width": 0.5
             },
             "pattern": {
              "fillmode": "overlay",
              "size": 10,
              "solidity": 0.2
             }
            },
            "type": "bar"
           }
          ],
          "barpolar": [
           {
            "marker": {
             "line": {
              "color": "#E5ECF6",
              "width": 0.5
             },
             "pattern": {
              "fillmode": "overlay",
              "size": 10,
              "solidity": 0.2
             }
            },
            "type": "barpolar"
           }
          ],
          "carpet": [
           {
            "aaxis": {
             "endlinecolor": "#2a3f5f",
             "gridcolor": "white",
             "linecolor": "white",
             "minorgridcolor": "white",
             "startlinecolor": "#2a3f5f"
            },
            "baxis": {
             "endlinecolor": "#2a3f5f",
             "gridcolor": "white",
             "linecolor": "white",
             "minorgridcolor": "white",
             "startlinecolor": "#2a3f5f"
            },
            "type": "carpet"
           }
          ],
          "choropleth": [
           {
            "colorbar": {
             "outlinewidth": 0,
             "ticks": ""
            },
            "type": "choropleth"
           }
          ],
          "contour": [
           {
            "colorbar": {
             "outlinewidth": 0,
             "ticks": ""
            },
            "colorscale": [
             [
              0,
              "#0d0887"
             ],
             [
              0.1111111111111111,
              "#46039f"
             ],
             [
              0.2222222222222222,
              "#7201a8"
             ],
             [
              0.3333333333333333,
              "#9c179e"
             ],
             [
              0.4444444444444444,
              "#bd3786"
             ],
             [
              0.5555555555555556,
              "#d8576b"
             ],
             [
              0.6666666666666666,
              "#ed7953"
             ],
             [
              0.7777777777777778,
              "#fb9f3a"
             ],
             [
              0.8888888888888888,
              "#fdca26"
             ],
             [
              1,
              "#f0f921"
             ]
            ],
            "type": "contour"
           }
          ],
          "contourcarpet": [
           {
            "colorbar": {
             "outlinewidth": 0,
             "ticks": ""
            },
            "type": "contourcarpet"
           }
          ],
          "heatmap": [
           {
            "colorbar": {
             "outlinewidth": 0,
             "ticks": ""
            },
            "colorscale": [
             [
              0,
              "#0d0887"
             ],
             [
              0.1111111111111111,
              "#46039f"
             ],
             [
              0.2222222222222222,
              "#7201a8"
             ],
             [
              0.3333333333333333,
              "#9c179e"
             ],
             [
              0.4444444444444444,
              "#bd3786"
             ],
             [
              0.5555555555555556,
              "#d8576b"
             ],
             [
              0.6666666666666666,
              "#ed7953"
             ],
             [
              0.7777777777777778,
              "#fb9f3a"
             ],
             [
              0.8888888888888888,
              "#fdca26"
             ],
             [
              1,
              "#f0f921"
             ]
            ],
            "type": "heatmap"
           }
          ],
          "heatmapgl": [
           {
            "colorbar": {
             "outlinewidth": 0,
             "ticks": ""
            },
            "colorscale": [
             [
              0,
              "#0d0887"
             ],
             [
              0.1111111111111111,
              "#46039f"
             ],
             [
              0.2222222222222222,
              "#7201a8"
             ],
             [
              0.3333333333333333,
              "#9c179e"
             ],
             [
              0.4444444444444444,
              "#bd3786"
             ],
             [
              0.5555555555555556,
              "#d8576b"
             ],
             [
              0.6666666666666666,
              "#ed7953"
             ],
             [
              0.7777777777777778,
              "#fb9f3a"
             ],
             [
              0.8888888888888888,
              "#fdca26"
             ],
             [
              1,
              "#f0f921"
             ]
            ],
            "type": "heatmapgl"
           }
          ],
          "histogram": [
           {
            "marker": {
             "pattern": {
              "fillmode": "overlay",
              "size": 10,
              "solidity": 0.2
             }
            },
            "type": "histogram"
           }
          ],
          "histogram2d": [
           {
            "colorbar": {
             "outlinewidth": 0,
             "ticks": ""
            },
            "colorscale": [
             [
              0,
              "#0d0887"
             ],
             [
              0.1111111111111111,
              "#46039f"
             ],
             [
              0.2222222222222222,
              "#7201a8"
             ],
             [
              0.3333333333333333,
              "#9c179e"
             ],
             [
              0.4444444444444444,
              "#bd3786"
             ],
             [
              0.5555555555555556,
              "#d8576b"
             ],
             [
              0.6666666666666666,
              "#ed7953"
             ],
             [
              0.7777777777777778,
              "#fb9f3a"
             ],
             [
              0.8888888888888888,
              "#fdca26"
             ],
             [
              1,
              "#f0f921"
             ]
            ],
            "type": "histogram2d"
           }
          ],
          "histogram2dcontour": [
           {
            "colorbar": {
             "outlinewidth": 0,
             "ticks": ""
            },
            "colorscale": [
             [
              0,
              "#0d0887"
             ],
             [
              0.1111111111111111,
              "#46039f"
             ],
             [
              0.2222222222222222,
              "#7201a8"
             ],
             [
              0.3333333333333333,
              "#9c179e"
             ],
             [
              0.4444444444444444,
              "#bd3786"
             ],
             [
              0.5555555555555556,
              "#d8576b"
             ],
             [
              0.6666666666666666,
              "#ed7953"
             ],
             [
              0.7777777777777778,
              "#fb9f3a"
             ],
             [
              0.8888888888888888,
              "#fdca26"
             ],
             [
              1,
              "#f0f921"
             ]
            ],
            "type": "histogram2dcontour"
           }
          ],
          "mesh3d": [
           {
            "colorbar": {
             "outlinewidth": 0,
             "ticks": ""
            },
            "type": "mesh3d"
           }
          ],
          "parcoords": [
           {
            "line": {
             "colorbar": {
              "outlinewidth": 0,
              "ticks": ""
             }
            },
            "type": "parcoords"
           }
          ],
          "pie": [
           {
            "automargin": true,
            "type": "pie"
           }
          ],
          "scatter": [
           {
            "fillpattern": {
             "fillmode": "overlay",
             "size": 10,
             "solidity": 0.2
            },
            "type": "scatter"
           }
          ],
          "scatter3d": [
           {
            "line": {
             "colorbar": {
              "outlinewidth": 0,
              "ticks": ""
             }
            },
            "marker": {
             "colorbar": {
              "outlinewidth": 0,
              "ticks": ""
             }
            },
            "type": "scatter3d"
           }
          ],
          "scattercarpet": [
           {
            "marker": {
             "colorbar": {
              "outlinewidth": 0,
              "ticks": ""
             }
            },
            "type": "scattercarpet"
           }
          ],
          "scattergeo": [
           {
            "marker": {
             "colorbar": {
              "outlinewidth": 0,
              "ticks": ""
             }
            },
            "type": "scattergeo"
           }
          ],
          "scattergl": [
           {
            "marker": {
             "colorbar": {
              "outlinewidth": 0,
              "ticks": ""
             }
            },
            "type": "scattergl"
           }
          ],
          "scattermapbox": [
           {
            "marker": {
             "colorbar": {
              "outlinewidth": 0,
              "ticks": ""
             }
            },
            "type": "scattermapbox"
           }
          ],
          "scatterpolar": [
           {
            "marker": {
             "colorbar": {
              "outlinewidth": 0,
              "ticks": ""
             }
            },
            "type": "scatterpolar"
           }
          ],
          "scatterpolargl": [
           {
            "marker": {
             "colorbar": {
              "outlinewidth": 0,
              "ticks": ""
             }
            },
            "type": "scatterpolargl"
           }
          ],
          "scatterternary": [
           {
            "marker": {
             "colorbar": {
              "outlinewidth": 0,
              "ticks": ""
             }
            },
            "type": "scatterternary"
           }
          ],
          "surface": [
           {
            "colorbar": {
             "outlinewidth": 0,
             "ticks": ""
            },
            "colorscale": [
             [
              0,
              "#0d0887"
             ],
             [
              0.1111111111111111,
              "#46039f"
             ],
             [
              0.2222222222222222,
              "#7201a8"
             ],
             [
              0.3333333333333333,
              "#9c179e"
             ],
             [
              0.4444444444444444,
              "#bd3786"
             ],
             [
              0.5555555555555556,
              "#d8576b"
             ],
             [
              0.6666666666666666,
              "#ed7953"
             ],
             [
              0.7777777777777778,
              "#fb9f3a"
             ],
             [
              0.8888888888888888,
              "#fdca26"
             ],
             [
              1,
              "#f0f921"
             ]
            ],
            "type": "surface"
           }
          ],
          "table": [
           {
            "cells": {
             "fill": {
              "color": "#EBF0F8"
             },
             "line": {
              "color": "white"
             }
            },
            "header": {
             "fill": {
              "color": "#C8D4E3"
             },
             "line": {
              "color": "white"
             }
            },
            "type": "table"
           }
          ]
         },
         "layout": {
          "annotationdefaults": {
           "arrowcolor": "#2a3f5f",
           "arrowhead": 0,
           "arrowwidth": 1
          },
          "autotypenumbers": "strict",
          "coloraxis": {
           "colorbar": {
            "outlinewidth": 0,
            "ticks": ""
           }
          },
          "colorscale": {
           "diverging": [
            [
             0,
             "#8e0152"
            ],
            [
             0.1,
             "#c51b7d"
            ],
            [
             0.2,
             "#de77ae"
            ],
            [
             0.3,
             "#f1b6da"
            ],
            [
             0.4,
             "#fde0ef"
            ],
            [
             0.5,
             "#f7f7f7"
            ],
            [
             0.6,
             "#e6f5d0"
            ],
            [
             0.7,
             "#b8e186"
            ],
            [
             0.8,
             "#7fbc41"
            ],
            [
             0.9,
             "#4d9221"
            ],
            [
             1,
             "#276419"
            ]
           ],
           "sequential": [
            [
             0,
             "#0d0887"
            ],
            [
             0.1111111111111111,
             "#46039f"
            ],
            [
             0.2222222222222222,
             "#7201a8"
            ],
            [
             0.3333333333333333,
             "#9c179e"
            ],
            [
             0.4444444444444444,
             "#bd3786"
            ],
            [
             0.5555555555555556,
             "#d8576b"
            ],
            [
             0.6666666666666666,
             "#ed7953"
            ],
            [
             0.7777777777777778,
             "#fb9f3a"
            ],
            [
             0.8888888888888888,
             "#fdca26"
            ],
            [
             1,
             "#f0f921"
            ]
           ],
           "sequentialminus": [
            [
             0,
             "#0d0887"
            ],
            [
             0.1111111111111111,
             "#46039f"
            ],
            [
             0.2222222222222222,
             "#7201a8"
            ],
            [
             0.3333333333333333,
             "#9c179e"
            ],
            [
             0.4444444444444444,
             "#bd3786"
            ],
            [
             0.5555555555555556,
             "#d8576b"
            ],
            [
             0.6666666666666666,
             "#ed7953"
            ],
            [
             0.7777777777777778,
             "#fb9f3a"
            ],
            [
             0.8888888888888888,
             "#fdca26"
            ],
            [
             1,
             "#f0f921"
            ]
           ]
          },
          "colorway": [
           "#636efa",
           "#EF553B",
           "#00cc96",
           "#ab63fa",
           "#FFA15A",
           "#19d3f3",
           "#FF6692",
           "#B6E880",
           "#FF97FF",
           "#FECB52"
          ],
          "font": {
           "color": "#2a3f5f"
          },
          "geo": {
           "bgcolor": "white",
           "lakecolor": "white",
           "landcolor": "#E5ECF6",
           "showlakes": true,
           "showland": true,
           "subunitcolor": "white"
          },
          "hoverlabel": {
           "align": "left"
          },
          "hovermode": "closest",
          "mapbox": {
           "style": "light"
          },
          "paper_bgcolor": "white",
          "plot_bgcolor": "#E5ECF6",
          "polar": {
           "angularaxis": {
            "gridcolor": "white",
            "linecolor": "white",
            "ticks": ""
           },
           "bgcolor": "#E5ECF6",
           "radialaxis": {
            "gridcolor": "white",
            "linecolor": "white",
            "ticks": ""
           }
          },
          "scene": {
           "xaxis": {
            "backgroundcolor": "#E5ECF6",
            "gridcolor": "white",
            "gridwidth": 2,
            "linecolor": "white",
            "showbackground": true,
            "ticks": "",
            "zerolinecolor": "white"
           },
           "yaxis": {
            "backgroundcolor": "#E5ECF6",
            "gridcolor": "white",
            "gridwidth": 2,
            "linecolor": "white",
            "showbackground": true,
            "ticks": "",
            "zerolinecolor": "white"
           },
           "zaxis": {
            "backgroundcolor": "#E5ECF6",
            "gridcolor": "white",
            "gridwidth": 2,
            "linecolor": "white",
            "showbackground": true,
            "ticks": "",
            "zerolinecolor": "white"
           }
          },
          "shapedefaults": {
           "line": {
            "color": "#2a3f5f"
           }
          },
          "ternary": {
           "aaxis": {
            "gridcolor": "white",
            "linecolor": "white",
            "ticks": ""
           },
           "baxis": {
            "gridcolor": "white",
            "linecolor": "white",
            "ticks": ""
           },
           "bgcolor": "#E5ECF6",
           "caxis": {
            "gridcolor": "white",
            "linecolor": "white",
            "ticks": ""
           }
          },
          "title": {
           "x": 0.05
          },
          "xaxis": {
           "automargin": true,
           "gridcolor": "white",
           "linecolor": "white",
           "ticks": "",
           "title": {
            "standoff": 15
           },
           "zerolinecolor": "white",
           "zerolinewidth": 2
          },
          "yaxis": {
           "automargin": true,
           "gridcolor": "white",
           "linecolor": "white",
           "ticks": "",
           "title": {
            "standoff": 15
           },
           "zerolinecolor": "white",
           "zerolinewidth": 2
          }
         }
        },
        "title": {
         "text": "Preferred Category vs. Age"
        },
        "xaxis": {
         "anchor": "y",
         "categoryarray": [
          "Electronics",
          "Appliances",
          "Home Goods"
         ],
         "categoryorder": "array",
         "domain": [
          0,
          1
         ],
         "title": {
          "text": "preferred_category"
         }
        },
        "yaxis": {
         "anchor": "x",
         "domain": [
          0,
          1
         ],
         "title": {
          "text": "Age"
         }
        }
       }
      }
     },
     "metadata": {},
     "output_type": "display_data"
    }
   ],
   "source": [
    "fig_age_category = px.bar(dataset, x='preferred_category', y='age',\n",
    "                          title='Preferred Category vs. Age', labels={'age': 'Age'},\n",
    "                          category_orders={'preferred_category': ['Electronics', 'Appliances', 'Home Goods']})\n",
    "\n",
    "fig_age_category.show()"
   ]
  }
 ],
 "metadata": {
  "kernelspec": {
   "display_name": "Python 3",
   "language": "python",
   "name": "python3"
  },
  "language_info": {
   "codemirror_mode": {
    "name": "ipython",
    "version": 3
   },
   "file_extension": ".py",
   "mimetype": "text/x-python",
   "name": "python",
   "nbconvert_exporter": "python",
   "pygments_lexer": "ipython3",
   "version": "3.9.6"
  },
  "orig_nbformat": 4
 },
 "nbformat": 4,
 "nbformat_minor": 2
}
